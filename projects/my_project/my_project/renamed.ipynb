{
 "cells": [
  {
   "cell_type": "code",
   "execution_count": 1,
   "id": "fbf5a292",
   "metadata": {},
   "outputs": [],
   "source": [
    "import pandas as pd\n",
    "from sklearn.datasets import load_digits\n",
    "from sklearn.linear_model import LogisticRegression\n",
    "import requests\n",
    "import io\n",
    "import numpy as np\n",
    "from sklearn.pipeline import Pipeline, FeatureUnion\n",
    "from sklearn.preprocessing import FunctionTransformer, MinMaxScaler\n",
    "from sklearn.impute import SimpleImputer\n",
    "imputer_num = SimpleImputer(missing_values=np.nan, strategy='mean')\n",
    "from sklearn.model_selection import train_test_split\n",
    "from sklearn.impute import SimpleImputer\n",
    "imputer_cat = SimpleImputer(strategy=\"most_frequent\")\n",
    "from sklearn.ensemble import AdaBoostClassifier\n",
    "from sklearn.metrics import roc_auc_score\n",
    "from flytekit import task, workflow\n",
    "from sklearn.preprocessing import LabelEncoder\n",
    "hi=None\n"
   ]
  },
  {
   "cell_type": "code",
   "execution_count": 2,
   "id": "03c8a147",
   "metadata": {},
   "outputs": [
    {
     "name": "stdout",
     "output_type": "stream",
     "text": [
      "df is created Index(['age', 'workclass', 'final-weight', 'education', 'education-num',\n",
      "       'marital-status', 'occupation', 'relationship', 'race', 'sex',\n",
      "       'capital-gain', 'capital-loos', 'hour-per-week', 'native-country',\n",
      "       'income'],\n",
      "      dtype='object')\n",
      "Index(['age', 'workclass', 'final-weight', 'education', 'education-num',\n",
      "       'marital-status', 'occupation', 'relationship', 'race', 'sex',\n",
      "       'capital-gain', 'capital-loos', 'hour-per-week', 'native-country',\n",
      "       'income'],\n",
      "      dtype='object')\n"
     ]
    }
   ],
   "source": [
    "url = \"https://github.com/smadarab/flytelab/raw/main/census.csv\" # Make sure the url is the raw version of the file on GitHub\n",
    "download = requests.get(url).content\n",
    "df = pd.read_csv(io.StringIO(download.decode('utf-8')),sep=',')\n",
    "print(\"df is created\",df.columns)\n",
    "#df.dropna(inplace=True)\n",
    "#df = df.reset_index()\n",
    "print(df.columns)\n",
    "train = df"
   ]
  },
  {
   "cell_type": "code",
   "execution_count": 14,
   "id": "7008c7a7",
   "metadata": {},
   "outputs": [],
   "source": [
    "from sklearn.preprocessing import OneHotEncoder\n",
    "import numpy as np\n",
    "from joblib import dump, load\n"
   ]
  },
  {
   "cell_type": "code",
   "execution_count": 15,
   "id": "6d628f20",
   "metadata": {},
   "outputs": [],
   "source": [
    "ohe = OneHotEncoder(handle_unknown = 'ignore')\n",
    "num_cols = ['age', 'education-num', 'capital-gain',\n",
    "            'capital-loos', 'hour-per-week']\n",
    "cat_cols = ['workclass', \n",
    "            'marital-status', 'occupation', \n",
    "            'relationship', 'race', \n",
    "            'sex', 'native-country']\n",
    "log_transform_cols = ['capital-loos', 'capital-gain']    \n",
    "def get_cat_cols(X):\n",
    "    return X[cat_cols]\n",
    "def get_num_cols(X):\n",
    "    return X[num_cols]\n",
    "def get_log_transform_cols(X):\n",
    "    return X[log_transform_cols]\n",
    "def get_dummies(X):\n",
    "    print('\\n \\n',type(X))\n",
    "    return pd.get_dummies(pd.DataFrame(X))\n",
    "def one_hot_encode(X):\n",
    "    print(\"one_hot_encode\")\n",
    "    global hi\n",
    "    ohe = OneHotEncoder(handle_unknown = 'ignore')\n",
    "    print(X[0].shape)\n",
    "    ohe.fit(pd.DataFrame(X))\n",
    "    hi=ohe\n",
    "    dump(ohe, 'onehot.joblib') \n",
    "    import subprocess\n",
    "    subprocess.call([\"git\", \"add\",\".\"])\n",
    "    subprocess.call([\"git\", \"commit\",\"-m\",\"kfbjebfe\"])\n",
    "    subprocess.call([\"git\", \"push\"])\n",
    "    y = ohe.transform(pd.DataFrame(X)).toarray()\n",
    "    return (y)\n",
    "def label_encode(X):\n",
    "    print(\"label_encode\")\n",
    "    df = pd.DataFrame(X)\n",
    "    le = LabelEncoder()\n",
    "    df[cols] = df[cols].apply(LabelEncoder().fit_transform)\n",
    "    df.status = le.fit_transform(X)\n",
    "def cat_imputer(X):\n",
    "    print(X.shape)\n",
    "    return(imputer_cat.fit_transform(X))\n",
    "    #return X.apply(lambda col: imputer_cat.fit_transform(col))  \n",
    "\n",
    "log_transform_pipeline = Pipeline([\n",
    "('get_log_transform_cols', FunctionTransformer(get_log_transform_cols, validate=False)),\n",
    "('imputer', SimpleImputer(strategy='mean')),   \n",
    "('log_transform', FunctionTransformer(np.log1p))\n",
    "])\n",
    "\n",
    "num_cols_pipeline = Pipeline([\n",
    "('get_num_cols', FunctionTransformer(get_num_cols, validate=False)),\n",
    "('imputer', SimpleImputer(strategy='mean')),\n",
    "('min_max_scaler', MinMaxScaler())\n",
    "])\n",
    "\n",
    "cat_cols_pipeline = Pipeline([\n",
    "('get_cat_cols', FunctionTransformer(get_cat_cols, validate=False)),\n",
    "('imputer', SimpleImputer(strategy=\"most_frequent\")),\n",
    "#('get_dummies', FunctionTransformer(get_dummies, validate=False))\n",
    "('one_hot_encode', FunctionTransformer(one_hot_encode, validate=False))    \n",
    "])       \n",
    "\n",
    "steps_ = FeatureUnion([\n",
    "('log_transform', log_transform_pipeline),\n",
    "('num_cols', num_cols_pipeline),\n",
    "('cat_cols', cat_cols_pipeline)\n",
    "])\n"
   ]
  },
  {
   "cell_type": "code",
   "execution_count": 16,
   "id": "c9a59b8c",
   "metadata": {},
   "outputs": [
    {
     "name": "stdout",
     "output_type": "stream",
     "text": [
      "one_hot_encode\n",
      "(7,)\n",
      "[my_project a56dedc] kfbjebfe\n",
      " 1 file changed, 0 insertions(+), 0 deletions(-)\n"
     ]
    },
    {
     "name": "stderr",
     "output_type": "stream",
     "text": [
      "To https://github.com/smadarab/flytelab\n",
      "   0e42e4d..a56dedc  my_project -> my_project\n"
     ]
    }
   ],
   "source": [
    "full_pipeline = Pipeline([('steps_', steps_)])\n",
    "y = train['income'].map({'<=50K': 0, '>50K': 1})\n",
    "X= full_pipeline.fit_transform(train)"
   ]
  },
  {
   "cell_type": "code",
   "execution_count": 18,
   "id": "efc0f771",
   "metadata": {},
   "outputs": [
    {
     "data": {
      "text/plain": [
       "0       NaN\n",
       "1       NaN\n",
       "2       NaN\n",
       "3       NaN\n",
       "4       NaN\n",
       "         ..\n",
       "32556   NaN\n",
       "32557   NaN\n",
       "32558   NaN\n",
       "32559   NaN\n",
       "32560   NaN\n",
       "Name: income, Length: 32561, dtype: float64"
      ]
     },
     "execution_count": 18,
     "metadata": {},
     "output_type": "execute_result"
    }
   ],
   "source": [
    "train"
   ]
  },
  {
   "cell_type": "code",
   "execution_count": null,
   "id": "89bb40a4",
   "metadata": {},
   "outputs": [],
   "source": []
  },
  {
   "cell_type": "code",
   "execution_count": 8,
   "id": "89ba8f46",
   "metadata": {},
   "outputs": [],
   "source": [
    "age =  50\n",
    "education_num =  13.0\n",
    "capital_gain =  0.0\n",
    "capital_loos = 0.0\n",
    "hour_per_week = 13.0\n",
    "workclass = \"Self-emp-not-inc\"\n",
    "marital_status = \"Married-civ-spouse\"\n",
    "occupation = \"Exec-managerial\"\n",
    "relationship = \"Husband\"\n",
    "race = \"White\"\n",
    "sex = \"Male\"\n",
    "native_country =\"United-States\"\n",
    "final_weight = 77516\n",
    "education=\"Bachelors\""
   ]
  },
  {
   "cell_type": "code",
   "execution_count": 9,
   "id": "f6b795d9",
   "metadata": {},
   "outputs": [],
   "source": [
    "dict_val = {'age':age, 'workclass':workclass, 'final-weight':final_weight, 'education':education, 'education_num':education_num,\n",
    "       'martial_status':marital_status, 'occupation':occupation, 'relationship':relationship, 'race':race, 'sex':sex,\n",
    "       'capital-gain':capital_gain, 'capital_loos':capital_loos, 'hour_per_week':hour_per_week, 'native_country':native_country}\n",
    "       "
   ]
  },
  {
   "cell_type": "code",
   "execution_count": 10,
   "id": "68cef7c5",
   "metadata": {},
   "outputs": [],
   "source": [
    "X_train = pd.DataFrame(dict_val,index=[0])"
   ]
  },
  {
   "cell_type": "code",
   "execution_count": 11,
   "id": "17081634",
   "metadata": {},
   "outputs": [],
   "source": [
    "import os"
   ]
  },
  {
   "cell_type": "code",
   "execution_count": 12,
   "id": "2a65b163",
   "metadata": {},
   "outputs": [
    {
     "name": "stdout",
     "output_type": "stream",
     "text": [
      "in function Index(['age', 'workclass', 'final-weight', 'education', 'education_num',\n",
      "       'martial_status', 'occupation', 'relationship', 'race', 'sex',\n",
      "       'capital-gain', 'capital_loos', 'hour_per_week', 'native_country'],\n",
      "      dtype='object')\n",
      "(1, 7)\n",
      "current wd /Users/apple/flytelab/projects/my_project/my_project\n"
     ]
    }
   ],
   "source": [
    "num_cols = ['age', 'education_num', 'capital-gain',\n",
    "            'capital_loos', 'hour_per_week']\n",
    "cat_cols = ['workclass', \n",
    "            'martial_status', 'occupation', \n",
    "            'relationship', 'race', \n",
    "            'sex', 'native_country']\n",
    "log_transform_cols = ['capital_loos', 'capital-gain']    \n",
    "def get_cat_cols(X):\n",
    "    return X[cat_cols]\n",
    "def get_num_cols(X):\n",
    "    return X[num_cols]\n",
    "def get_log_transform_cols(X):\n",
    "    print(\"in function\",X.columns)\n",
    "    return X[log_transform_cols]\n",
    "def get_dummies(X):\n",
    "    print('\\n \\n',type(X))\n",
    "    return pd.get_dummies(pd.DataFrame(X))\n",
    "def cat_imputer(X):\n",
    "    print(X.shape)\n",
    "    return(imputer_cat.fit_transform(X))\n",
    "    #return X.apply(lambda col: imputer_cat.fit_transform(col))  \n",
    "def one_hot_encode(X):\n",
    "    print(X.shape)\n",
    "    print(\"current wd\",os.getcwd())\n",
    "    #url = \"https://github.com/smadarab/flytelab/blob/my_project/projects/my_project/my_project/onehot.joblib\" # Make sure the url is the raw version of the file on GitHub\n",
    "    #download = requests.get(url).content\n",
    "    #ohe = load(download)\n",
    "    #ohe = load('onehot.joblib')\n",
    "    return hi.transform(pd.DataFrame(X)).toarray()\n",
    "\n",
    "log_transform_pipeline = Pipeline([\n",
    "('get_log_transform_cols', FunctionTransformer(get_log_transform_cols, validate=False)),\n",
    "('imputer', SimpleImputer(strategy='mean')),   \n",
    "('log_transform', FunctionTransformer(np.log1p))\n",
    "])\n",
    "\n",
    "num_cols_pipeline = Pipeline([\n",
    "('get_num_cols', FunctionTransformer(get_num_cols, validate=False)),\n",
    "('imputer', SimpleImputer(strategy='mean')),\n",
    "('min_max_scaler', MinMaxScaler())\n",
    "])\n",
    "\n",
    "cat_cols_pipeline = Pipeline([\n",
    "('get_cat_cols', FunctionTransformer(get_cat_cols, validate=False)),\n",
    "('imputer', SimpleImputer(strategy=\"most_frequent\")),\n",
    "#('get_dummies', FunctionTransformer(get_dummies, validate=False))\n",
    "('one_hot_encode', FunctionTransformer(one_hot_encode, validate=False))\n",
    "])       \n",
    "\n",
    "steps_ = FeatureUnion([\n",
    "('log_transform', log_transform_pipeline),\n",
    "('num_cols', num_cols_pipeline),\n",
    "('cat_cols', cat_cols_pipeline)\n",
    "])\n",
    "full_pipeline = Pipeline([('steps_', steps_)])\n",
    "X_train = full_pipeline.fit_transform(X_train)"
   ]
  },
  {
   "cell_type": "code",
   "execution_count": 13,
   "id": "abe5018a",
   "metadata": {},
   "outputs": [
    {
     "data": {
      "text/plain": [
       "(1, 93)"
      ]
     },
     "execution_count": 13,
     "metadata": {},
     "output_type": "execute_result"
    }
   ],
   "source": [
    "X_train.shape"
   ]
  },
  {
   "cell_type": "code",
   "execution_count": null,
   "id": "11ad9668",
   "metadata": {},
   "outputs": [],
   "source": []
  },
  {
   "cell_type": "code",
   "execution_count": null,
   "id": "e0d4b67a",
   "metadata": {},
   "outputs": [],
   "source": []
  },
  {
   "cell_type": "code",
   "execution_count": null,
   "id": "b09a80c2",
   "metadata": {},
   "outputs": [],
   "source": []
  },
  {
   "cell_type": "code",
   "execution_count": null,
   "id": "03b8eaba",
   "metadata": {},
   "outputs": [],
   "source": []
  },
  {
   "cell_type": "code",
   "execution_count": null,
   "id": "ead3cc89",
   "metadata": {},
   "outputs": [],
   "source": []
  },
  {
   "cell_type": "code",
   "execution_count": null,
   "id": "5748a879",
   "metadata": {},
   "outputs": [],
   "source": []
  },
  {
   "cell_type": "code",
   "execution_count": null,
   "id": "f537af76",
   "metadata": {},
   "outputs": [],
   "source": []
  },
  {
   "cell_type": "code",
   "execution_count": null,
   "id": "12b5501b",
   "metadata": {},
   "outputs": [],
   "source": []
  },
  {
   "cell_type": "code",
   "execution_count": null,
   "id": "a45b3f80",
   "metadata": {},
   "outputs": [],
   "source": []
  },
  {
   "cell_type": "code",
   "execution_count": null,
   "id": "7d7a3d3e",
   "metadata": {},
   "outputs": [],
   "source": []
  },
  {
   "cell_type": "code",
   "execution_count": null,
   "id": "c5717798",
   "metadata": {},
   "outputs": [],
   "source": []
  },
  {
   "cell_type": "code",
   "execution_count": null,
   "id": "63bef73e",
   "metadata": {},
   "outputs": [],
   "source": []
  },
  {
   "cell_type": "code",
   "execution_count": null,
   "id": "f1abf238",
   "metadata": {},
   "outputs": [],
   "source": []
  },
  {
   "cell_type": "code",
   "execution_count": null,
   "id": "ed8b98ce",
   "metadata": {},
   "outputs": [],
   "source": []
  },
  {
   "cell_type": "code",
   "execution_count": null,
   "id": "f8d7a961",
   "metadata": {},
   "outputs": [],
   "source": []
  },
  {
   "cell_type": "code",
   "execution_count": null,
   "id": "fb1ba47c",
   "metadata": {},
   "outputs": [],
   "source": []
  },
  {
   "cell_type": "code",
   "execution_count": null,
   "id": "19adb31b",
   "metadata": {},
   "outputs": [],
   "source": []
  },
  {
   "cell_type": "code",
   "execution_count": null,
   "id": "29285749",
   "metadata": {},
   "outputs": [],
   "source": []
  },
  {
   "cell_type": "code",
   "execution_count": null,
   "id": "f9aa6ff9",
   "metadata": {},
   "outputs": [],
   "source": []
  },
  {
   "cell_type": "code",
   "execution_count": null,
   "id": "9f175cca",
   "metadata": {},
   "outputs": [],
   "source": []
  },
  {
   "cell_type": "code",
   "execution_count": null,
   "id": "b8f017dc",
   "metadata": {},
   "outputs": [],
   "source": []
  },
  {
   "cell_type": "code",
   "execution_count": null,
   "id": "c6221db8",
   "metadata": {},
   "outputs": [],
   "source": []
  },
  {
   "cell_type": "code",
   "execution_count": null,
   "id": "753a4495",
   "metadata": {},
   "outputs": [],
   "source": [
    " ohe = load(download)"
   ]
  },
  {
   "cell_type": "code",
   "execution_count": null,
   "id": "e99dc724",
   "metadata": {},
   "outputs": [],
   "source": [
    "ohe.transform(pd.DataFrame(X)).toarray()"
   ]
  },
  {
   "cell_type": "code",
   "execution_count": null,
   "id": "7c67fd97",
   "metadata": {},
   "outputs": [],
   "source": [
    "model = AdaBoostClassifier(n_estimators=300)\n",
    "X_train, X_test, y_train, y_test = train_test_split(X, y)\n",
    "X_train = np.nan_to_num(X_train)\n",
    "y_train=np.nan_to_num(y_train)\n",
    "print(\"X_train dimensiona\",X_train)\n",
    "model.fit(X_train, y_train)"
   ]
  },
  {
   "cell_type": "markdown",
   "id": "6be7fb3a",
   "metadata": {},
   "source": [
    "# Test part"
   ]
  },
  {
   "cell_type": "code",
   "execution_count": null,
   "id": "be5eba2c",
   "metadata": {},
   "outputs": [],
   "source": [
    "num_cols = ['age', 'education-num', 'capital-gain',\n",
    "            'capital-loos', 'hour-per-week']\n",
    "cat_cols = ['workclass', \n",
    "            'marital-status', 'occupation', \n",
    "            'relationship', 'race', \n",
    "            'sex', 'native-country']\n",
    "log_transform_cols = ['capital-loos', 'capital-gain']    \n",
    "def get_cat_cols(X):\n",
    "    return X[cat_cols]\n",
    "def get_num_cols(X):\n",
    "    return X[num_cols]\n",
    "def get_log_transform_cols(X):\n",
    "    return X[log_transform_cols]\n",
    "def get_dummies(X):\n",
    "    print('\\n \\n',type(X))\n",
    "    return pd.get_dummies(pd.DataFrame(X))\n",
    "def one_hot_encode(X):\n",
    "    print(\"one_hot_encode\")\n",
    "    ohe = load('filename.joblib') \n",
    "    y = ohe.transform(pd.DataFrame(X)).toarray()\n",
    "    print('\\n \\n',y)\n",
    "    return y\n",
    "def label_encode(X):\n",
    "    print(\"label_encode\")\n",
    "    df = pd.DataFrame(X)\n",
    "    le = LabelEncoder()\n",
    "    df[cols] = df[cols].apply(LabelEncoder().fit_transform)\n",
    "    df.status = le.fit_transform(X)\n",
    "def cat_imputer(X):\n",
    "    print(X.shape)\n",
    "    return(imputer_cat.fit_transform(X))\n",
    "    #return X.apply(lambda col: imputer_cat.fit_transform(col))  \n",
    "\n",
    "log_transform_pipeline = Pipeline([\n",
    "('get_log_transform_cols', FunctionTransformer(get_log_transform_cols, validate=False)),\n",
    "('imputer', SimpleImputer(strategy='mean')),   \n",
    "('log_transform', FunctionTransformer(np.log1p))\n",
    "])\n",
    "\n",
    "num_cols_pipeline = Pipeline([\n",
    "('get_num_cols', FunctionTransformer(get_num_cols, validate=False)),\n",
    "('imputer', SimpleImputer(strategy='mean')),\n",
    "('min_max_scaler', MinMaxScaler())\n",
    "])\n",
    "\n",
    "cat_cols_pipeline = Pipeline([\n",
    "('get_cat_cols', FunctionTransformer(get_cat_cols, validate=False)),\n",
    "('imputer', SimpleImputer(strategy=\"most_frequent\")),\n",
    "#('get_dummies', FunctionTransformer(get_dummies, validate=False))\n",
    "('one_hot_encode', FunctionTransformer(one_hot_encode, validate=False))    \n",
    "])       \n",
    "\n",
    "steps_ = FeatureUnion([\n",
    "('log_transform', log_transform_pipeline),\n",
    "('num_cols', num_cols_pipeline),\n",
    "('cat_cols', cat_cols_pipeline)\n",
    "])"
   ]
  },
  {
   "cell_type": "code",
   "execution_count": null,
   "id": "39743f18",
   "metadata": {},
   "outputs": [],
   "source": [
    "age =  50\n",
    "education_num =  13.0\n",
    "capital_gain =  0.0\n",
    "capital_loos = 0.0\n",
    "hour_per_week = 13.0\n",
    "workclass = \"Self-emp-not-inc\"\n",
    "marital_status = \"Married-civ-spouse\"\n",
    "occupation = \"Exec-managerial\"\n",
    "relationship = \"Husband\"\n",
    "race = \"White\"\n",
    "sex = \"Male\"\n",
    "native_country =\"United-States\"\n",
    "final_weight = 77516\n",
    "education=\"Bachelors\""
   ]
  },
  {
   "cell_type": "code",
   "execution_count": null,
   "id": "8ce29cc2",
   "metadata": {},
   "outputs": [],
   "source": [
    "dict_val = {'age':age, 'workclass':workclass, 'final-weight':final_weight, 'education':education, 'education-num':education_num,\n",
    "       'marital-status':marital_status, 'occupation':occupation, 'relationship':relationship, 'race':race, 'sex':sex,\n",
    "       'capital-gain':capital_gain, 'capital-loos':capital_loos, 'hour-per-week':hour_per_week, 'native-country':native_country}\n",
    "       "
   ]
  },
  {
   "cell_type": "code",
   "execution_count": null,
   "id": "23cf5121",
   "metadata": {},
   "outputs": [],
   "source": [
    "X_train = pd.DataFrame(dict_val,index=[0])"
   ]
  },
  {
   "cell_type": "code",
   "execution_count": null,
   "id": "334912da",
   "metadata": {},
   "outputs": [],
   "source": [
    "X_train"
   ]
  },
  {
   "cell_type": "code",
   "execution_count": null,
   "id": "6889a26f",
   "metadata": {
    "scrolled": true
   },
   "outputs": [],
   "source": [
    "full_pipeline = Pipeline([('steps_', steps_)])\n",
    "X = full_pipeline.fit_transform(X_train)"
   ]
  },
  {
   "cell_type": "code",
   "execution_count": null,
   "id": "c4aa6221",
   "metadata": {},
   "outputs": [],
   "source": [
    "y = model.predict(X)"
   ]
  },
  {
   "cell_type": "code",
   "execution_count": null,
   "id": "512ed3bb",
   "metadata": {},
   "outputs": [],
   "source": [
    "y"
   ]
  },
  {
   "cell_type": "code",
   "execution_count": null,
   "id": "4c9c5a35",
   "metadata": {},
   "outputs": [],
   "source": []
  }
 ],
 "metadata": {
  "kernelspec": {
   "display_name": "Python 3 (ipykernel)",
   "language": "python",
   "name": "python3"
  },
  "language_info": {
   "codemirror_mode": {
    "name": "ipython",
    "version": 3
   },
   "file_extension": ".py",
   "mimetype": "text/x-python",
   "name": "python",
   "nbconvert_exporter": "python",
   "pygments_lexer": "ipython3",
   "version": "3.9.7"
  }
 },
 "nbformat": 4,
 "nbformat_minor": 5
}
