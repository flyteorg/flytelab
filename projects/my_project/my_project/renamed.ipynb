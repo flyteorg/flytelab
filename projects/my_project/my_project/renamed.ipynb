{
 "cells": [
  {
   "cell_type": "code",
   "execution_count": 1,
   "id": "fbf5a292",
   "metadata": {},
   "outputs": [
    {
     "ename": "NameError",
     "evalue": "name 'none' is not defined",
     "output_type": "error",
     "traceback": [
      "\u001b[0;31m---------------------------------------------------------------------------\u001b[0m",
      "\u001b[0;31mNameError\u001b[0m                                 Traceback (most recent call last)",
      "\u001b[0;32m/var/folders/xz/_n8hp8kj647490whct8tlyq80000gn/T/ipykernel_4021/405937915.py\u001b[0m in \u001b[0;36m<module>\u001b[0;34m\u001b[0m\n\u001b[1;32m     16\u001b[0m \u001b[0;32mfrom\u001b[0m \u001b[0mflytekit\u001b[0m \u001b[0;32mimport\u001b[0m \u001b[0mtask\u001b[0m\u001b[0;34m,\u001b[0m \u001b[0mworkflow\u001b[0m\u001b[0;34m\u001b[0m\u001b[0;34m\u001b[0m\u001b[0m\n\u001b[1;32m     17\u001b[0m \u001b[0;32mfrom\u001b[0m \u001b[0msklearn\u001b[0m\u001b[0;34m.\u001b[0m\u001b[0mpreprocessing\u001b[0m \u001b[0;32mimport\u001b[0m \u001b[0mLabelEncoder\u001b[0m\u001b[0;34m\u001b[0m\u001b[0;34m\u001b[0m\u001b[0m\n\u001b[0;32m---> 18\u001b[0;31m \u001b[0mhi\u001b[0m\u001b[0;34m=\u001b[0m\u001b[0mnone\u001b[0m\u001b[0;34m\u001b[0m\u001b[0;34m\u001b[0m\u001b[0m\n\u001b[0m",
      "\u001b[0;31mNameError\u001b[0m: name 'none' is not defined"
     ]
    }
   ],
   "source": [
    "import pandas as pd\n",
    "from sklearn.datasets import load_digits\n",
    "from sklearn.linear_model import LogisticRegression\n",
    "import requests\n",
    "import io\n",
    "import numpy as np\n",
    "from sklearn.pipeline import Pipeline, FeatureUnion\n",
    "from sklearn.preprocessing import FunctionTransformer, MinMaxScaler\n",
    "from sklearn.impute import SimpleImputer\n",
    "imputer_num = SimpleImputer(missing_values=np.nan, strategy='mean')\n",
    "from sklearn.model_selection import train_test_split\n",
    "from sklearn.impute import SimpleImputer\n",
    "imputer_cat = SimpleImputer(strategy=\"most_frequent\")\n",
    "from sklearn.ensemble import AdaBoostClassifier\n",
    "from sklearn.metrics import roc_auc_score\n",
    "from flytekit import task, workflow\n",
    "from sklearn.preprocessing import LabelEncoder\n",
    "hi=None\n"
   ]
  },
  {
   "cell_type": "code",
   "execution_count": 8,
   "id": "03c8a147",
   "metadata": {},
   "outputs": [
    {
     "name": "stdout",
     "output_type": "stream",
     "text": [
      "df is created Index(['age', 'workclass', 'final-weight', 'education', 'education-num',\n",
      "       'marital-status', 'occupation', 'relationship', 'race', 'sex',\n",
      "       'capital-gain', 'capital-loos', 'hour-per-week', 'native-country',\n",
      "       'income'],\n",
      "      dtype='object')\n",
      "Index(['age', 'workclass', 'final-weight', 'education', 'education-num',\n",
      "       'marital-status', 'occupation', 'relationship', 'race', 'sex',\n",
      "       'capital-gain', 'capital-loos', 'hour-per-week', 'native-country',\n",
      "       'income'],\n",
      "      dtype='object')\n"
     ]
    }
   ],
   "source": [
    "url = \"https://github.com/smadarab/flytelab/raw/main/census.csv\" # Make sure the url is the raw version of the file on GitHub\n",
    "download = requests.get(url).content\n",
    "df = pd.read_csv(io.StringIO(download.decode('utf-8')),sep=',')\n",
    "print(\"df is created\",df.columns)\n",
    "#df.dropna(inplace=True)\n",
    "#df = df.reset_index()\n",
    "print(df.columns)\n",
    "train = df"
   ]
  },
  {
   "cell_type": "code",
   "execution_count": 9,
   "id": "7008c7a7",
   "metadata": {},
   "outputs": [],
   "source": [
    "from sklearn.preprocessing import OneHotEncoder\n",
    "import numpy as np\n",
    "from joblib import dump, load\n"
   ]
  },
  {
   "cell_type": "code",
   "execution_count": 10,
   "id": "6d628f20",
   "metadata": {},
   "outputs": [],
   "source": [
    "ohe = OneHotEncoder(handle_unknown = 'ignore')\n",
    "num_cols = ['age', 'education-num', 'capital-gain',\n",
    "            'capital-loos', 'hour-per-week']\n",
    "cat_cols = ['workclass', \n",
    "            'marital-status', 'occupation', \n",
    "            'relationship', 'race', \n",
    "            'sex', 'native-country']\n",
    "log_transform_cols = ['capital-loos', 'capital-gain']    \n",
    "def get_cat_cols(X):\n",
    "    return X[cat_cols]\n",
    "def get_num_cols(X):\n",
    "    return X[num_cols]\n",
    "def get_log_transform_cols(X):\n",
    "    return X[log_transform_cols]\n",
    "def get_dummies(X):\n",
    "    print('\\n \\n',type(X))\n",
    "    return pd.get_dummies(pd.DataFrame(X))\n",
    "def one_hot_encode(X):\n",
    "    print(\"one_hot_encode\")\n",
    "    global hi\n",
    "    ohe = OneHotEncoder(handle_unknown = 'ignore')\n",
    "    print(X[0].shape)\n",
    "    ohe.fit(pd.DataFrame(X))\n",
    "    hi.append(ohe)\n",
    "    dump(ohe, 'onehot.joblib') \n",
    "    import subprocess\n",
    "    subprocess.call([\"git\", \"add\",\".\"])\n",
    "    subprocess.call([\"git\", \"commit\",\"-m\",\"kfbjebfe\"])\n",
    "    subprocess.call([\"git\", \"push\"])\n",
    "    y = ohe.transform(pd.DataFrame(X)).toarray()\n",
    "    return (y)\n",
    "def label_encode(X):\n",
    "    print(\"label_encode\")\n",
    "    df = pd.DataFrame(X)\n",
    "    le = LabelEncoder()\n",
    "    df[cols] = df[cols].apply(LabelEncoder().fit_transform)\n",
    "    df.status = le.fit_transform(X)\n",
    "def cat_imputer(X):\n",
    "    print(X.shape)\n",
    "    return(imputer_cat.fit_transform(X))\n",
    "    #return X.apply(lambda col: imputer_cat.fit_transform(col))  \n",
    "\n",
    "log_transform_pipeline = Pipeline([\n",
    "('get_log_transform_cols', FunctionTransformer(get_log_transform_cols, validate=False)),\n",
    "('imputer', SimpleImputer(strategy='mean')),   \n",
    "('log_transform', FunctionTransformer(np.log1p))\n",
    "])\n",
    "\n",
    "num_cols_pipeline = Pipeline([\n",
    "('get_num_cols', FunctionTransformer(get_num_cols, validate=False)),\n",
    "('imputer', SimpleImputer(strategy='mean')),\n",
    "('min_max_scaler', MinMaxScaler())\n",
    "])\n",
    "\n",
    "cat_cols_pipeline = Pipeline([\n",
    "('get_cat_cols', FunctionTransformer(get_cat_cols, validate=False)),\n",
    "('imputer', SimpleImputer(strategy=\"most_frequent\")),\n",
    "#('get_dummies', FunctionTransformer(get_dummies, validate=False))\n",
    "('one_hot_encode', FunctionTransformer(one_hot_encode, validate=False))    \n",
    "])       \n",
    "\n",
    "steps_ = FeatureUnion([\n",
    "('log_transform', log_transform_pipeline),\n",
    "('num_cols', num_cols_pipeline),\n",
    "('cat_cols', cat_cols_pipeline)\n",
    "])\n"
   ]
  },
  {
   "cell_type": "code",
   "execution_count": 11,
   "id": "c9a59b8c",
   "metadata": {},
   "outputs": [
    {
     "name": "stdout",
     "output_type": "stream",
     "text": [
      "one_hot_encode\n",
      "(7,)\n",
      "[my_project 4058faf] kfbjebfe\n",
      " 1 file changed, 749 insertions(+), 1003 deletions(-)\n",
      " rewrite projects/my_project/my_project/renamed.ipynb (96%)\n"
     ]
    },
    {
     "name": "stderr",
     "output_type": "stream",
     "text": [
      "To https://github.com/smadarab/flytelab\n",
      "   fed3ed1..4058faf  my_project -> my_project\n"
     ]
    }
   ],
   "source": [
    "full_pipeline = Pipeline([('steps_', steps_)])\n",
    "y = train['income'].map({'<=50K': 0, '>50K': 1})\n",
    "X= full_pipeline.fit_transform(train)"
   ]
  },
  {
   "cell_type": "code",
   "execution_count": 13,
   "id": "73449b35",
   "metadata": {},
   "outputs": [
    {
     "data": {
      "text/plain": [
       "OneHotEncoder(handle_unknown='ignore')"
      ]
     },
     "execution_count": 13,
     "metadata": {},
     "output_type": "execute_result"
    }
   ],
   "source": [
    "hi[0]"
   ]
  },
  {
   "cell_type": "code",
   "execution_count": null,
   "id": "188bcc48",
   "metadata": {},
   "outputs": [],
   "source": [
    "age =  50\n",
    "education_num =  13.0\n",
    "capital_gain =  0.0\n",
    "capital_loos = 0.0\n",
    "hour_per_week = 13.0\n",
    "workclass = \"Self-emp-not-inc\"\n",
    "marital_status = \"Married-civ-spouse\"\n",
    "occupation = \"Exec-managerial\"\n",
    "relationship = \"Husband\"\n",
    "race = \"White\"\n",
    "sex = \"Male\"\n",
    "native_country =\"United-States\"\n",
    "final_weight = 77516\n",
    "education=\"Bachelors\""
   ]
  },
  {
   "cell_type": "code",
   "execution_count": null,
   "id": "b50f7923",
   "metadata": {},
   "outputs": [],
   "source": [
    "dict_val = {'age':age, 'workclass':workclass, 'final-weight':final_weight, 'education':education, 'education_num':education_num,\n",
    "       'martial_status':marital_status, 'occupation':occupation, 'relationship':relationship, 'race':race, 'sex':sex,\n",
    "       'capital-gain':capital_gain, 'capital_loos':capital_loos, 'hour_per_week':hour_per_week, 'native_country':native_country}\n",
    "       "
   ]
  },
  {
   "cell_type": "code",
   "execution_count": null,
   "id": "5345736f",
   "metadata": {},
   "outputs": [],
   "source": [
    "X_train = pd.DataFrame(dict_val,index=[0])"
   ]
  },
  {
   "cell_type": "code",
   "execution_count": null,
   "id": "49e13a5b",
   "metadata": {},
   "outputs": [],
   "source": [
    "import os"
   ]
  },
  {
   "cell_type": "code",
   "execution_count": null,
   "id": "6745d0d8",
   "metadata": {},
   "outputs": [],
   "source": [
    "num_cols = ['age', 'education_num', 'capital-gain',\n",
    "            'capital_loos', 'hour_per_week']\n",
    "cat_cols = ['workclass', \n",
    "            'martial_status', 'occupation', \n",
    "            'relationship', 'race', \n",
    "            'sex', 'native_country']\n",
    "log_transform_cols = ['capital_loos', 'capital-gain']    \n",
    "def get_cat_cols(X):\n",
    "    return X[cat_cols]\n",
    "def get_num_cols(X):\n",
    "    return X[num_cols]\n",
    "def get_log_transform_cols(X):\n",
    "    print(\"in function\",X.columns)\n",
    "    return X[log_transform_cols]\n",
    "def get_dummies(X):\n",
    "    print('\\n \\n',type(X))\n",
    "    return pd.get_dummies(pd.DataFrame(X))\n",
    "def cat_imputer(X):\n",
    "    print(X.shape)\n",
    "    return(imputer_cat.fit_transform(X))\n",
    "    #return X.apply(lambda col: imputer_cat.fit_transform(col))  \n",
    "def one_hot_encode(X):\n",
    "    print(X.shape)\n",
    "    print(\"current wd\",os.getcwd())\n",
    "    url = \"https://github.com/smadarab/flytelab/blob/my_project/projects/my_project/my_project/onehot.joblib\" # Make sure the url is the raw version of the file on GitHub\n",
    "    download = requests.get(url).content\n",
    "    ohe = load(download)\n",
    "    #ohe = load('onehot.joblib')\n",
    "    return ohe.transform(pd.DataFrame(X)).toarray()\n",
    "\n",
    "log_transform_pipeline = Pipeline([\n",
    "('get_log_transform_cols', FunctionTransformer(get_log_transform_cols, validate=False)),\n",
    "('imputer', SimpleImputer(strategy='mean')),   \n",
    "('log_transform', FunctionTransformer(np.log1p))\n",
    "])\n",
    "\n",
    "num_cols_pipeline = Pipeline([\n",
    "('get_num_cols', FunctionTransformer(get_num_cols, validate=False)),\n",
    "('imputer', SimpleImputer(strategy='mean')),\n",
    "('min_max_scaler', MinMaxScaler())\n",
    "])\n",
    "\n",
    "cat_cols_pipeline = Pipeline([\n",
    "('get_cat_cols', FunctionTransformer(get_cat_cols, validate=False)),\n",
    "('imputer', SimpleImputer(strategy=\"most_frequent\")),\n",
    "#('get_dummies', FunctionTransformer(get_dummies, validate=False))\n",
    "('one_hot_encode', FunctionTransformer(one_hot_encode, validate=False))\n",
    "])       \n",
    "\n",
    "steps_ = FeatureUnion([\n",
    "('log_transform', log_transform_pipeline),\n",
    "('num_cols', num_cols_pipeline),\n",
    "('cat_cols', cat_cols_pipeline)\n",
    "])\n",
    "full_pipeline = Pipeline([('steps_', steps_)])\n",
    "X_train = full_pipeline.fit_transform(X_train)"
   ]
  },
  {
   "cell_type": "code",
   "execution_count": null,
   "id": "5fd189ea",
   "metadata": {},
   "outputs": [],
   "source": [
    "X_train.shape"
   ]
  },
  {
   "cell_type": "code",
   "execution_count": null,
   "id": "5bb327f8",
   "metadata": {},
   "outputs": [],
   "source": []
  },
  {
   "cell_type": "code",
   "execution_count": null,
   "id": "4edb2cb6",
   "metadata": {},
   "outputs": [],
   "source": []
  },
  {
   "cell_type": "code",
   "execution_count": null,
   "id": "9e8cd3c5",
   "metadata": {},
   "outputs": [],
   "source": []
  },
  {
   "cell_type": "code",
   "execution_count": null,
   "id": "51a789db",
   "metadata": {},
   "outputs": [],
   "source": []
  },
  {
   "cell_type": "code",
   "execution_count": null,
   "id": "5ef020d7",
   "metadata": {},
   "outputs": [],
   "source": []
  },
  {
   "cell_type": "code",
   "execution_count": null,
   "id": "35a83a9f",
   "metadata": {},
   "outputs": [],
   "source": []
  },
  {
   "cell_type": "code",
   "execution_count": null,
   "id": "252a67d8",
   "metadata": {},
   "outputs": [],
   "source": []
  },
  {
   "cell_type": "code",
   "execution_count": null,
   "id": "a4130edb",
   "metadata": {},
   "outputs": [],
   "source": []
  },
  {
   "cell_type": "code",
   "execution_count": null,
   "id": "537a51e6",
   "metadata": {},
   "outputs": [],
   "source": []
  },
  {
   "cell_type": "code",
   "execution_count": null,
   "id": "ca2c6f83",
   "metadata": {},
   "outputs": [],
   "source": []
  },
  {
   "cell_type": "code",
   "execution_count": null,
   "id": "d5a96519",
   "metadata": {},
   "outputs": [],
   "source": []
  },
  {
   "cell_type": "code",
   "execution_count": null,
   "id": "b3454c29",
   "metadata": {},
   "outputs": [],
   "source": []
  },
  {
   "cell_type": "code",
   "execution_count": null,
   "id": "35933c86",
   "metadata": {},
   "outputs": [],
   "source": []
  },
  {
   "cell_type": "code",
   "execution_count": null,
   "id": "78429112",
   "metadata": {},
   "outputs": [],
   "source": []
  },
  {
   "cell_type": "code",
   "execution_count": null,
   "id": "cca2710d",
   "metadata": {},
   "outputs": [],
   "source": []
  },
  {
   "cell_type": "code",
   "execution_count": null,
   "id": "a2334529",
   "metadata": {},
   "outputs": [],
   "source": []
  },
  {
   "cell_type": "code",
   "execution_count": null,
   "id": "cbb41311",
   "metadata": {},
   "outputs": [],
   "source": []
  },
  {
   "cell_type": "code",
   "execution_count": null,
   "id": "c0dc2a54",
   "metadata": {},
   "outputs": [],
   "source": []
  },
  {
   "cell_type": "code",
   "execution_count": null,
   "id": "36a0e3cb",
   "metadata": {},
   "outputs": [],
   "source": []
  },
  {
   "cell_type": "code",
   "execution_count": null,
   "id": "3e6ed6d4",
   "metadata": {},
   "outputs": [],
   "source": []
  },
  {
   "cell_type": "code",
   "execution_count": null,
   "id": "70711f99",
   "metadata": {},
   "outputs": [],
   "source": []
  },
  {
   "cell_type": "code",
   "execution_count": null,
   "id": "79882f62",
   "metadata": {},
   "outputs": [],
   "source": []
  },
  {
   "cell_type": "code",
   "execution_count": null,
   "id": "d9bd0efc",
   "metadata": {},
   "outputs": [],
   "source": [
    " ohe = load(download)"
   ]
  },
  {
   "cell_type": "code",
   "execution_count": null,
   "id": "590ee7fe",
   "metadata": {},
   "outputs": [],
   "source": [
    "ohe.transform(pd.DataFrame(X)).toarray()"
   ]
  },
  {
   "cell_type": "code",
   "execution_count": null,
   "id": "7c67fd97",
   "metadata": {},
   "outputs": [],
   "source": [
    "model = AdaBoostClassifier(n_estimators=300)\n",
    "X_train, X_test, y_train, y_test = train_test_split(X, y)\n",
    "X_train = np.nan_to_num(X_train)\n",
    "y_train=np.nan_to_num(y_train)\n",
    "print(\"X_train dimensiona\",X_train)\n",
    "model.fit(X_train, y_train)"
   ]
  },
  {
   "cell_type": "markdown",
   "id": "6be7fb3a",
   "metadata": {},
   "source": [
    "# Test part"
   ]
  },
  {
   "cell_type": "code",
   "execution_count": null,
   "id": "be5eba2c",
   "metadata": {},
   "outputs": [],
   "source": [
    "num_cols = ['age', 'education-num', 'capital-gain',\n",
    "            'capital-loos', 'hour-per-week']\n",
    "cat_cols = ['workclass', \n",
    "            'marital-status', 'occupation', \n",
    "            'relationship', 'race', \n",
    "            'sex', 'native-country']\n",
    "log_transform_cols = ['capital-loos', 'capital-gain']    \n",
    "def get_cat_cols(X):\n",
    "    return X[cat_cols]\n",
    "def get_num_cols(X):\n",
    "    return X[num_cols]\n",
    "def get_log_transform_cols(X):\n",
    "    return X[log_transform_cols]\n",
    "def get_dummies(X):\n",
    "    print('\\n \\n',type(X))\n",
    "    return pd.get_dummies(pd.DataFrame(X))\n",
    "def one_hot_encode(X):\n",
    "    print(\"one_hot_encode\")\n",
    "    ohe = load('filename.joblib') \n",
    "    y = ohe.transform(pd.DataFrame(X)).toarray()\n",
    "    print('\\n \\n',y)\n",
    "    return y\n",
    "def label_encode(X):\n",
    "    print(\"label_encode\")\n",
    "    df = pd.DataFrame(X)\n",
    "    le = LabelEncoder()\n",
    "    df[cols] = df[cols].apply(LabelEncoder().fit_transform)\n",
    "    df.status = le.fit_transform(X)\n",
    "def cat_imputer(X):\n",
    "    print(X.shape)\n",
    "    return(imputer_cat.fit_transform(X))\n",
    "    #return X.apply(lambda col: imputer_cat.fit_transform(col))  \n",
    "\n",
    "log_transform_pipeline = Pipeline([\n",
    "('get_log_transform_cols', FunctionTransformer(get_log_transform_cols, validate=False)),\n",
    "('imputer', SimpleImputer(strategy='mean')),   \n",
    "('log_transform', FunctionTransformer(np.log1p))\n",
    "])\n",
    "\n",
    "num_cols_pipeline = Pipeline([\n",
    "('get_num_cols', FunctionTransformer(get_num_cols, validate=False)),\n",
    "('imputer', SimpleImputer(strategy='mean')),\n",
    "('min_max_scaler', MinMaxScaler())\n",
    "])\n",
    "\n",
    "cat_cols_pipeline = Pipeline([\n",
    "('get_cat_cols', FunctionTransformer(get_cat_cols, validate=False)),\n",
    "('imputer', SimpleImputer(strategy=\"most_frequent\")),\n",
    "#('get_dummies', FunctionTransformer(get_dummies, validate=False))\n",
    "('one_hot_encode', FunctionTransformer(one_hot_encode, validate=False))    \n",
    "])       \n",
    "\n",
    "steps_ = FeatureUnion([\n",
    "('log_transform', log_transform_pipeline),\n",
    "('num_cols', num_cols_pipeline),\n",
    "('cat_cols', cat_cols_pipeline)\n",
    "])"
   ]
  },
  {
   "cell_type": "code",
   "execution_count": null,
   "id": "39743f18",
   "metadata": {},
   "outputs": [],
   "source": [
    "age =  50\n",
    "education_num =  13.0\n",
    "capital_gain =  0.0\n",
    "capital_loos = 0.0\n",
    "hour_per_week = 13.0\n",
    "workclass = \"Self-emp-not-inc\"\n",
    "marital_status = \"Married-civ-spouse\"\n",
    "occupation = \"Exec-managerial\"\n",
    "relationship = \"Husband\"\n",
    "race = \"White\"\n",
    "sex = \"Male\"\n",
    "native_country =\"United-States\"\n",
    "final_weight = 77516\n",
    "education=\"Bachelors\""
   ]
  },
  {
   "cell_type": "code",
   "execution_count": null,
   "id": "8ce29cc2",
   "metadata": {},
   "outputs": [],
   "source": [
    "dict_val = {'age':age, 'workclass':workclass, 'final-weight':final_weight, 'education':education, 'education-num':education_num,\n",
    "       'marital-status':marital_status, 'occupation':occupation, 'relationship':relationship, 'race':race, 'sex':sex,\n",
    "       'capital-gain':capital_gain, 'capital-loos':capital_loos, 'hour-per-week':hour_per_week, 'native-country':native_country}\n",
    "       "
   ]
  },
  {
   "cell_type": "code",
   "execution_count": null,
   "id": "23cf5121",
   "metadata": {},
   "outputs": [],
   "source": [
    "X_train = pd.DataFrame(dict_val,index=[0])"
   ]
  },
  {
   "cell_type": "code",
   "execution_count": null,
   "id": "334912da",
   "metadata": {},
   "outputs": [],
   "source": [
    "X_train"
   ]
  },
  {
   "cell_type": "code",
   "execution_count": null,
   "id": "6889a26f",
   "metadata": {
    "scrolled": true
   },
   "outputs": [],
   "source": [
    "full_pipeline = Pipeline([('steps_', steps_)])\n",
    "X = full_pipeline.fit_transform(X_train)"
   ]
  },
  {
   "cell_type": "code",
   "execution_count": null,
   "id": "c4aa6221",
   "metadata": {},
   "outputs": [],
   "source": [
    "y = model.predict(X)"
   ]
  },
  {
   "cell_type": "code",
   "execution_count": null,
   "id": "512ed3bb",
   "metadata": {},
   "outputs": [],
   "source": [
    "y"
   ]
  },
  {
   "cell_type": "code",
   "execution_count": null,
   "id": "4c9c5a35",
   "metadata": {},
   "outputs": [],
   "source": []
  }
 ],
 "metadata": {
  "kernelspec": {
   "display_name": "Python 3 (ipykernel)",
   "language": "python",
   "name": "python3"
  },
  "language_info": {
   "codemirror_mode": {
    "name": "ipython",
    "version": 3
   },
   "file_extension": ".py",
   "mimetype": "text/x-python",
   "name": "python",
   "nbconvert_exporter": "python",
   "pygments_lexer": "ipython3",
   "version": "3.9.7"
  }
 },
 "nbformat": 4,
 "nbformat_minor": 5
}
