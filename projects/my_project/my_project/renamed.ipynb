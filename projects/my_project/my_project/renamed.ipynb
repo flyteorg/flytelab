{
 "cells": [
  {
   "cell_type": "code",
   "execution_count": 1,
   "id": "fbf5a292",
   "metadata": {},
   "outputs": [],
   "source": [
    "import pandas as pd\n",
    "from sklearn.datasets import load_digits\n",
    "from sklearn.linear_model import LogisticRegression\n",
    "import requests\n",
    "import io\n",
    "import numpy as np\n",
    "from sklearn.pipeline import Pipeline, FeatureUnion\n",
    "from sklearn.preprocessing import FunctionTransformer, MinMaxScaler\n",
    "from sklearn.impute import SimpleImputer\n",
    "imputer_num = SimpleImputer(missing_values=np.nan, strategy='mean')\n",
    "from sklearn.model_selection import train_test_split\n",
    "from sklearn.impute import SimpleImputer\n",
    "imputer_cat = SimpleImputer(strategy=\"most_frequent\")\n",
    "from sklearn.ensemble import AdaBoostClassifier\n",
    "from sklearn.metrics import roc_auc_score\n",
    "from flytekit import task, workflow\n",
    "from sklearn.preprocessing import LabelEncoder\n",
    "hi=None\n"
   ]
  },
  {
   "cell_type": "code",
   "execution_count": 2,
   "id": "03c8a147",
   "metadata": {},
   "outputs": [
    {
     "name": "stdout",
     "output_type": "stream",
     "text": [
      "df is created Index(['age', 'workclass', 'education_level', 'education-num',\n",
      "       'marital-status', 'occupation', 'relationship', 'race', 'sex',\n",
      "       'capital-gain', 'capital-loss', 'hours-per-week', 'native-country',\n",
      "       'income'],\n",
      "      dtype='object')\n",
      "Index(['age', 'workclass', 'education_level', 'education-num',\n",
      "       'marital-status', 'occupation', 'relationship', 'race', 'sex',\n",
      "       'capital-gain', 'capital-loss', 'hours-per-week', 'native-country',\n",
      "       'income'],\n",
      "      dtype='object')\n"
     ]
    }
   ],
   "source": [
    "url = \"https://github.com/smadarab/flytelab/raw/main/census 2.csv\" # Make sure the url is the raw version of the file on GitHub\n",
    "download = requests.get(url).content\n",
    "df = pd.read_csv(io.StringIO(download.decode('utf-8')),sep=',')\n",
    "print(\"df is created\",df.columns)\n",
    "#df.dropna(inplace=True)\n",
    "#df = df.reset_index()\n",
    "print(df.columns)\n",
    "train = df"
   ]
  },
  {
   "cell_type": "code",
   "execution_count": null,
   "id": "f3ebeee1",
   "metadata": {},
   "outputs": [],
   "source": []
  },
  {
   "cell_type": "code",
   "execution_count": 3,
   "id": "2db04130",
   "metadata": {},
   "outputs": [
    {
     "data": {
      "text/plain": [
       "Index(['age', 'workclass', 'education_level', 'education-num',\n",
       "       'marital-status', 'occupation', 'relationship', 'race', 'sex',\n",
       "       'capital-gain', 'capital-loss', 'hours-per-week', 'native-country',\n",
       "       'income'],\n",
       "      dtype='object')"
      ]
     },
     "execution_count": 3,
     "metadata": {},
     "output_type": "execute_result"
    }
   ],
   "source": [
    "df.columns"
   ]
  },
  {
   "cell_type": "code",
   "execution_count": 4,
   "id": "7008c7a7",
   "metadata": {},
   "outputs": [],
   "source": [
    "from sklearn.preprocessing import OneHotEncoder\n",
    "import numpy as np\n",
    "from joblib import dump, load\n"
   ]
  },
  {
   "cell_type": "code",
   "execution_count": 5,
   "id": "6d628f20",
   "metadata": {},
   "outputs": [],
   "source": [
    "ohe = OneHotEncoder(handle_unknown = 'ignore')\n",
    "num_cols = ['age', 'education-num', 'capital-gain',\n",
    "            'capital-loss', 'hours-per-week']\n",
    "cat_cols = ['workclass', \n",
    "            'marital-status', 'occupation', \n",
    "            'relationship', 'race', \n",
    "            'sex', 'native-country']\n",
    "log_transform_cols = ['capital-loss', 'capital-gain']    \n",
    "def get_cat_cols(X):\n",
    "    return X[cat_cols]\n",
    "def get_num_cols(X):\n",
    "    return X[num_cols]\n",
    "def get_log_transform_cols(X):\n",
    "    return X[log_transform_cols]\n",
    "def get_dummies(X):\n",
    "    print('\\n \\n',type(X))\n",
    "    return pd.get_dummies(pd.DataFrame(X))\n",
    "def one_hot_encode(X):\n",
    "    print(\"one_hot_encode\")\n",
    "    global hi\n",
    "    ohe = OneHotEncoder(handle_unknown = 'ignore')\n",
    "    print(X[0].shape)\n",
    "    ohe.fit(pd.DataFrame(X))\n",
    "    hi=ohe\n",
    "    #dump(ohe, 'onehot.joblib') \n",
    "    y = ohe.transform(pd.DataFrame(X)).toarray()\n",
    "    return (y)\n",
    "def label_encode(X):\n",
    "    print(\"label_encode\")\n",
    "    df = pd.DataFrame(X)\n",
    "    le = LabelEncoder()\n",
    "    df[cols] = df[cols].apply(LabelEncoder().fit_transform)\n",
    "    df.status = le.fit_transform(X)\n",
    "def cat_imputer(X):\n",
    "    print(X.shape)\n",
    "    return(imputer_cat.fit_transform(X))\n",
    "    #return X.apply(lambda col: imputer_cat.fit_transform(col))  \n",
    "\n",
    "log_transform_pipeline = Pipeline([\n",
    "('get_log_transform_cols', FunctionTransformer(get_log_transform_cols, validate=False)),\n",
    "('imputer', SimpleImputer(strategy='mean')),   \n",
    "('log_transform', FunctionTransformer(np.log1p))\n",
    "])\n",
    "\n",
    "num_cols_pipeline = Pipeline([\n",
    "('get_num_cols', FunctionTransformer(get_num_cols, validate=False)),\n",
    "('imputer', SimpleImputer(strategy='mean')),\n",
    "('min_max_scaler', MinMaxScaler())\n",
    "])\n",
    "\n",
    "cat_cols_pipeline = Pipeline([\n",
    "('get_cat_cols', FunctionTransformer(get_cat_cols, validate=False)),\n",
    "('imputer', SimpleImputer(strategy=\"most_frequent\")),\n",
    "#('get_dummies', FunctionTransformer(get_dummies, validate=False))\n",
    "('one_hot_encode', FunctionTransformer(one_hot_encode, validate=False))    \n",
    "])       \n",
    "\n",
    "steps_ = FeatureUnion([\n",
    "('log_transform', log_transform_pipeline),\n",
    "('num_cols', num_cols_pipeline),\n",
    "('cat_cols', cat_cols_pipeline)\n",
    "])\n"
   ]
  },
  {
   "cell_type": "code",
   "execution_count": 6,
   "id": "c9a59b8c",
   "metadata": {},
   "outputs": [
    {
     "name": "stdout",
     "output_type": "stream",
     "text": [
      "one_hot_encode\n",
      "(7,)\n"
     ]
    }
   ],
   "source": [
    "full_pipeline = Pipeline([('steps_', steps_)])\n",
    "y = train['income'].map({'<=50K': 0, '>50K': 1})\n",
    "X= full_pipeline.fit_transform(train)"
   ]
  },
  {
   "cell_type": "code",
   "execution_count": 7,
   "id": "02e6e011",
   "metadata": {},
   "outputs": [
    {
     "data": {
      "text/plain": [
       "(89,)"
      ]
     },
     "execution_count": 7,
     "metadata": {},
     "output_type": "execute_result"
    }
   ],
   "source": [
    "X[0].shape"
   ]
  },
  {
   "cell_type": "code",
   "execution_count": 8,
   "id": "935f4c0e",
   "metadata": {},
   "outputs": [
    {
     "data": {
      "text/plain": [
       "AdaBoostClassifier(n_estimators=300)"
      ]
     },
     "execution_count": 8,
     "metadata": {},
     "output_type": "execute_result"
    }
   ],
   "source": [
    "model = AdaBoostClassifier(n_estimators=300)\n",
    "X_train, X_test, y_train, y_test = train_test_split(X, y)\n",
    "model.fit(X_train, y_train)"
   ]
  },
  {
   "cell_type": "code",
   "execution_count": 12,
   "id": "fb0e5914",
   "metadata": {},
   "outputs": [
    {
     "name": "stdout",
     "output_type": "stream",
     "text": [
      "score test: 0.9274054401161436\n"
     ]
    }
   ],
   "source": [
    "y_pred = model.predict_proba(X_train)[:, 1]\n",
    "print(\"score test: {}\".format(roc_auc_score(y_train, y_pred)))"
   ]
  },
  {
   "cell_type": "code",
   "execution_count": 49,
   "id": "1bb47c8e",
   "metadata": {},
   "outputs": [],
   "source": [
    "val_predi = X_test"
   ]
  },
  {
   "cell_type": "code",
   "execution_count": 48,
   "id": "e9bc4d43",
   "metadata": {},
   "outputs": [],
   "source": [
    "y_pred = model.predict_proba(X_test)[:, 1]"
   ]
  },
  {
   "cell_type": "code",
   "execution_count": 42,
   "id": "a40a5fb7",
   "metadata": {},
   "outputs": [
    {
     "data": {
      "text/plain": [
       "array([0.49869516, 0.49722598, 0.4950014 , ..., 0.49917921, 0.49790055,\n",
       "       0.4953353 ])"
      ]
     },
     "execution_count": 42,
     "metadata": {},
     "output_type": "execute_result"
    }
   ],
   "source": [
    "y_pred"
   ]
  },
  {
   "cell_type": "code",
   "execution_count": 14,
   "id": "6d5792fa",
   "metadata": {},
   "outputs": [
    {
     "name": "stdout",
     "output_type": "stream",
     "text": [
      "score test: 0.920706626849253\n"
     ]
    }
   ],
   "source": [
    "#print(\"score train: {}\".format(roc_auc_score(y_train, probs_train)))\n",
    "print(\"score test: {}\".format(roc_auc_score(y_test, y_pred)))"
   ]
  },
  {
   "cell_type": "code",
   "execution_count": 15,
   "id": "f7530c6d",
   "metadata": {},
   "outputs": [],
   "source": [
    "\n",
    "#Self-emp-not-inc HS-grad 9.0 Married-civ-spouse Exec-managerial Husband White Male 0.0 0.0 45.0 United-States"
   ]
  },
  {
   "cell_type": "code",
   "execution_count": 17,
   "id": "72eef884",
   "metadata": {},
   "outputs": [
    {
     "data": {
      "text/plain": [
       "Index(['age', 'workclass', 'education_level', 'education-num',\n",
       "       'marital-status', 'occupation', 'relationship', 'race', 'sex',\n",
       "       'capital-gain', 'capital-loss', 'hours-per-week', 'native-country',\n",
       "       'income'],\n",
       "      dtype='object')"
      ]
     },
     "execution_count": 17,
     "metadata": {},
     "output_type": "execute_result"
    }
   ],
   "source": [
    "df.columns"
   ]
  },
  {
   "cell_type": "code",
   "execution_count": null,
   "id": "681a344e",
   "metadata": {},
   "outputs": [],
   "source": []
  },
  {
   "cell_type": "code",
   "execution_count": 28,
   "id": "ae9fb727",
   "metadata": {},
   "outputs": [],
   "source": [
    "key = df[df['income']=='>50K'].iloc[7].index.to_list()\n",
    "val = list(df[df['income']=='>50K'].iloc[7].values)"
   ]
  },
  {
   "cell_type": "code",
   "execution_count": 31,
   "id": "204732ac",
   "metadata": {},
   "outputs": [],
   "source": [
    "dict_val = {i: j for i,j in zip(key,val)}"
   ]
  },
  {
   "cell_type": "markdown",
   "id": "3cd71904",
   "metadata": {},
   "source": [
    "dict_val = {'age':age, 'workclass':workclass,  'education_num':education_num,'education_level':education_level,\n",
    "       'martial_status':marital_status, 'occupation':occupation, 'relationship':relationship, 'race':race, 'sex':sex,\n",
    "       'capital-gain':capital_gain, 'capital_loos':capital_loos, 'hour_per_week':hour_per_week, 'native_country':native_country}\n",
    "       "
   ]
  },
  {
   "cell_type": "code",
   "execution_count": 32,
   "id": "16aee33f",
   "metadata": {},
   "outputs": [],
   "source": [
    "X_train = pd.DataFrame(dict_val,index=[0])"
   ]
  },
  {
   "cell_type": "code",
   "execution_count": 33,
   "id": "6fe2b4bd",
   "metadata": {},
   "outputs": [
    {
     "data": {
      "text/html": [
       "<div>\n",
       "<style scoped>\n",
       "    .dataframe tbody tr th:only-of-type {\n",
       "        vertical-align: middle;\n",
       "    }\n",
       "\n",
       "    .dataframe tbody tr th {\n",
       "        vertical-align: top;\n",
       "    }\n",
       "\n",
       "    .dataframe thead th {\n",
       "        text-align: right;\n",
       "    }\n",
       "</style>\n",
       "<table border=\"1\" class=\"dataframe\">\n",
       "  <thead>\n",
       "    <tr style=\"text-align: right;\">\n",
       "      <th></th>\n",
       "      <th>age</th>\n",
       "      <th>workclass</th>\n",
       "      <th>education_level</th>\n",
       "      <th>education-num</th>\n",
       "      <th>marital-status</th>\n",
       "      <th>occupation</th>\n",
       "      <th>relationship</th>\n",
       "      <th>race</th>\n",
       "      <th>sex</th>\n",
       "      <th>capital-gain</th>\n",
       "      <th>capital-loss</th>\n",
       "      <th>hours-per-week</th>\n",
       "      <th>native-country</th>\n",
       "      <th>income</th>\n",
       "    </tr>\n",
       "  </thead>\n",
       "  <tbody>\n",
       "    <tr>\n",
       "      <th>0</th>\n",
       "      <td>56</td>\n",
       "      <td>Local-gov</td>\n",
       "      <td>Bachelors</td>\n",
       "      <td>13.0</td>\n",
       "      <td>Married-civ-spouse</td>\n",
       "      <td>Tech-support</td>\n",
       "      <td>Husband</td>\n",
       "      <td>White</td>\n",
       "      <td>Male</td>\n",
       "      <td>0.0</td>\n",
       "      <td>0.0</td>\n",
       "      <td>40.0</td>\n",
       "      <td>United-States</td>\n",
       "      <td>&gt;50K</td>\n",
       "    </tr>\n",
       "  </tbody>\n",
       "</table>\n",
       "</div>"
      ],
      "text/plain": [
       "   age   workclass education_level  education-num       marital-status  \\\n",
       "0   56   Local-gov       Bachelors           13.0   Married-civ-spouse   \n",
       "\n",
       "      occupation relationship    race    sex  capital-gain  capital-loss  \\\n",
       "0   Tech-support      Husband   White   Male           0.0           0.0   \n",
       "\n",
       "   hours-per-week  native-country income  \n",
       "0            40.0   United-States   >50K  "
      ]
     },
     "execution_count": 33,
     "metadata": {},
     "output_type": "execute_result"
    }
   ],
   "source": [
    "X_train"
   ]
  },
  {
   "cell_type": "code",
   "execution_count": 34,
   "id": "f97304ae",
   "metadata": {},
   "outputs": [],
   "source": [
    "import os"
   ]
  },
  {
   "cell_type": "code",
   "execution_count": 35,
   "id": "ff261394",
   "metadata": {},
   "outputs": [
    {
     "name": "stdout",
     "output_type": "stream",
     "text": [
      "in function Index(['age', 'workclass', 'education_level', 'education-num',\n",
      "       'marital-status', 'occupation', 'relationship', 'race', 'sex',\n",
      "       'capital-gain', 'capital-loss', 'hours-per-week', 'native-country',\n",
      "       'income'],\n",
      "      dtype='object')\n",
      "(1, 7)\n",
      "current wd /Users/apple/flytelab/projects/my_project/my_project\n"
     ]
    }
   ],
   "source": [
    "num_cols = ['age', 'education-num', 'capital-gain',\n",
    "            'capital-loss', 'hours-per-week']\n",
    "cat_cols = ['workclass', \n",
    "            'marital-status', 'occupation', \n",
    "            'relationship', 'race', \n",
    "            'sex', 'native-country']\n",
    "log_transform_cols = ['capital-loss', 'capital-gain']    \n",
    "def get_cat_cols(X):\n",
    "    return X[cat_cols]\n",
    "def get_num_cols(X):\n",
    "    return X[num_cols]\n",
    "def get_log_transform_cols(X):\n",
    "    print(\"in function\",X.columns)\n",
    "    return X[log_transform_cols]\n",
    "def get_dummies(X):\n",
    "    print('\\n \\n',type(X))\n",
    "    return pd.get_dummies(pd.DataFrame(X))\n",
    "def cat_imputer(X):\n",
    "    print(X.shape)\n",
    "    return(imputer_cat.fit_transform(X))\n",
    "    #return X.apply(lambda col: imputer_cat.fit_transform(col))  \n",
    "def one_hot_encode(X):\n",
    "    print(X.shape)\n",
    "    print(\"current wd\",os.getcwd())\n",
    "    return hi.transform(pd.DataFrame(X)).toarray()\n",
    "\n",
    "log_transform_pipeline = Pipeline([\n",
    "('get_log_transform_cols', FunctionTransformer(get_log_transform_cols, validate=False)),\n",
    "('imputer', SimpleImputer(strategy='mean')),   \n",
    "('log_transform', FunctionTransformer(np.log1p))\n",
    "])\n",
    "\n",
    "num_cols_pipeline = Pipeline([\n",
    "('get_num_cols', FunctionTransformer(get_num_cols, validate=False)),\n",
    "('imputer', SimpleImputer(strategy='mean')),\n",
    "('min_max_scaler', MinMaxScaler())\n",
    "])\n",
    "\n",
    "cat_cols_pipeline = Pipeline([\n",
    "('get_cat_cols', FunctionTransformer(get_cat_cols, validate=False)),\n",
    "('imputer', SimpleImputer(strategy=\"most_frequent\")),\n",
    "#('get_dummies', FunctionTransformer(get_dummies, validate=False))\n",
    "('one_hot_encode', FunctionTransformer(one_hot_encode, validate=False))\n",
    "])       \n",
    "\n",
    "steps_ = FeatureUnion([\n",
    "('log_transform', log_transform_pipeline),\n",
    "('num_cols', num_cols_pipeline),\n",
    "('cat_cols', cat_cols_pipeline)\n",
    "])\n",
    "full_pipeline = Pipeline([('steps_', steps_)])\n",
    "X_train = full_pipeline.fit_transform(X_train)"
   ]
  },
  {
   "cell_type": "code",
   "execution_count": 36,
   "id": "6d534627",
   "metadata": {},
   "outputs": [
    {
     "data": {
      "text/plain": [
       "(1, 89)"
      ]
     },
     "execution_count": 36,
     "metadata": {},
     "output_type": "execute_result"
    }
   ],
   "source": [
    "X_train.shape"
   ]
  },
  {
   "cell_type": "code",
   "execution_count": 55,
   "id": "ff537e9a",
   "metadata": {},
   "outputs": [
    {
     "data": {
      "text/plain": [
       "array([[0., 0., 0., 0., 0., 0., 0., 0., 1., 0., 0., 0., 0., 0., 0., 0.,\n",
       "        1., 0., 0., 0., 0., 0., 0., 0., 0., 0., 0., 0., 0., 0., 0., 0.,\n",
       "        0., 1., 0., 1., 0., 0., 0., 0., 0., 0., 0., 0., 0., 1., 0., 1.,\n",
       "        0., 0., 0., 0., 0., 0., 0., 0., 0., 0., 0., 0., 0., 0., 0., 0.,\n",
       "        0., 0., 0., 0., 0., 0., 0., 0., 0., 0., 0., 0., 0., 0., 0., 0.,\n",
       "        0., 0., 0., 0., 0., 0., 1., 0., 0.]])"
      ]
     },
     "execution_count": 55,
     "metadata": {},
     "output_type": "execute_result"
    }
   ],
   "source": [
    "X_train"
   ]
  },
  {
   "cell_type": "code",
   "execution_count": 63,
   "id": "8e49f4cf",
   "metadata": {},
   "outputs": [],
   "source": [
    "y_pred = model.predict_proba(val_pre)[:, 1]"
   ]
  },
  {
   "cell_type": "code",
   "execution_count": 64,
   "id": "f04f8d30",
   "metadata": {},
   "outputs": [
    {
     "data": {
      "text/plain": [
       "array([0.49869516])"
      ]
     },
     "execution_count": 64,
     "metadata": {},
     "output_type": "execute_result"
    }
   ],
   "source": [
    "y_pred"
   ]
  },
  {
   "cell_type": "code",
   "execution_count": 62,
   "id": "3383fa83",
   "metadata": {},
   "outputs": [],
   "source": [
    "val_pre = val_predi[0].reshape(1, -1)"
   ]
  },
  {
   "cell_type": "code",
   "execution_count": 54,
   "id": "1b36522b",
   "metadata": {},
   "outputs": [],
   "source": []
  },
  {
   "cell_type": "code",
   "execution_count": null,
   "id": "22059600",
   "metadata": {},
   "outputs": [],
   "source": []
  },
  {
   "cell_type": "code",
   "execution_count": null,
   "id": "954321bc",
   "metadata": {},
   "outputs": [],
   "source": []
  },
  {
   "cell_type": "code",
   "execution_count": null,
   "id": "d096aa2c",
   "metadata": {},
   "outputs": [],
   "source": []
  },
  {
   "cell_type": "code",
   "execution_count": null,
   "id": "59dabd05",
   "metadata": {},
   "outputs": [],
   "source": []
  },
  {
   "cell_type": "code",
   "execution_count": null,
   "id": "f52d9c74",
   "metadata": {},
   "outputs": [],
   "source": []
  },
  {
   "cell_type": "code",
   "execution_count": null,
   "id": "0178208b",
   "metadata": {},
   "outputs": [],
   "source": []
  },
  {
   "cell_type": "code",
   "execution_count": null,
   "id": "928de633",
   "metadata": {},
   "outputs": [],
   "source": []
  },
  {
   "cell_type": "code",
   "execution_count": null,
   "id": "248fe56f",
   "metadata": {},
   "outputs": [],
   "source": []
  },
  {
   "cell_type": "code",
   "execution_count": null,
   "id": "87dac3d1",
   "metadata": {},
   "outputs": [],
   "source": []
  },
  {
   "cell_type": "code",
   "execution_count": null,
   "id": "05fb2530",
   "metadata": {},
   "outputs": [],
   "source": []
  },
  {
   "cell_type": "code",
   "execution_count": null,
   "id": "7a419c0d",
   "metadata": {},
   "outputs": [],
   "source": []
  },
  {
   "cell_type": "code",
   "execution_count": null,
   "id": "1d0d56ce",
   "metadata": {},
   "outputs": [],
   "source": []
  },
  {
   "cell_type": "code",
   "execution_count": null,
   "id": "69e57828",
   "metadata": {},
   "outputs": [],
   "source": []
  },
  {
   "cell_type": "code",
   "execution_count": null,
   "id": "cbe32537",
   "metadata": {},
   "outputs": [],
   "source": []
  },
  {
   "cell_type": "code",
   "execution_count": null,
   "id": "7a49dec9",
   "metadata": {},
   "outputs": [],
   "source": []
  },
  {
   "cell_type": "code",
   "execution_count": null,
   "id": "22a77a1b",
   "metadata": {},
   "outputs": [],
   "source": []
  },
  {
   "cell_type": "code",
   "execution_count": null,
   "id": "cc518bf1",
   "metadata": {},
   "outputs": [],
   "source": []
  },
  {
   "cell_type": "code",
   "execution_count": null,
   "id": "e12bfe55",
   "metadata": {},
   "outputs": [],
   "source": []
  },
  {
   "cell_type": "code",
   "execution_count": null,
   "id": "a21a8017",
   "metadata": {},
   "outputs": [],
   "source": []
  },
  {
   "cell_type": "code",
   "execution_count": null,
   "id": "c172536e",
   "metadata": {},
   "outputs": [],
   "source": []
  },
  {
   "cell_type": "code",
   "execution_count": null,
   "id": "e3f61817",
   "metadata": {},
   "outputs": [],
   "source": [
    " ohe = load(download)"
   ]
  },
  {
   "cell_type": "code",
   "execution_count": null,
   "id": "34e4d930",
   "metadata": {},
   "outputs": [],
   "source": [
    "ohe.transform(pd.DataFrame(X)).toarray()"
   ]
  },
  {
   "cell_type": "code",
   "execution_count": null,
   "id": "7c67fd97",
   "metadata": {},
   "outputs": [],
   "source": []
  },
  {
   "cell_type": "markdown",
   "id": "6be7fb3a",
   "metadata": {},
   "source": [
    "# Test part"
   ]
  },
  {
   "cell_type": "code",
   "execution_count": null,
   "id": "be5eba2c",
   "metadata": {},
   "outputs": [],
   "source": [
    "num_cols = ['age', 'education-num', 'capital-gain',\n",
    "            'capital-loos', 'hour-per-week']\n",
    "cat_cols = ['workclass', \n",
    "            'marital-status', 'occupation', \n",
    "            'relationship', 'race', \n",
    "            'sex', 'native-country']\n",
    "log_transform_cols = ['capital-loos', 'capital-gain']    \n",
    "def get_cat_cols(X):\n",
    "    return X[cat_cols]\n",
    "def get_num_cols(X):\n",
    "    return X[num_cols]\n",
    "def get_log_transform_cols(X):\n",
    "    return X[log_transform_cols]\n",
    "def get_dummies(X):\n",
    "    print('\\n \\n',type(X))\n",
    "    return pd.get_dummies(pd.DataFrame(X))\n",
    "def one_hot_encode(X):\n",
    "    print(\"one_hot_encode\")\n",
    "    ohe = load('filename.joblib') \n",
    "    y = ohe.transform(pd.DataFrame(X)).toarray()\n",
    "    print('\\n \\n',y)\n",
    "    return y\n",
    "def label_encode(X):\n",
    "    print(\"label_encode\")\n",
    "    df = pd.DataFrame(X)\n",
    "    le = LabelEncoder()\n",
    "    df[cols] = df[cols].apply(LabelEncoder().fit_transform)\n",
    "    df.status = le.fit_transform(X)\n",
    "def cat_imputer(X):\n",
    "    print(X.shape)\n",
    "    return(imputer_cat.fit_transform(X))\n",
    "    #return X.apply(lambda col: imputer_cat.fit_transform(col))  \n",
    "\n",
    "log_transform_pipeline = Pipeline([\n",
    "('get_log_transform_cols', FunctionTransformer(get_log_transform_cols, validate=False)),\n",
    "('imputer', SimpleImputer(strategy='mean')),   \n",
    "('log_transform', FunctionTransformer(np.log1p))\n",
    "])\n",
    "\n",
    "num_cols_pipeline = Pipeline([\n",
    "('get_num_cols', FunctionTransformer(get_num_cols, validate=False)),\n",
    "('imputer', SimpleImputer(strategy='mean')),\n",
    "('min_max_scaler', MinMaxScaler())\n",
    "])\n",
    "\n",
    "cat_cols_pipeline = Pipeline([\n",
    "('get_cat_cols', FunctionTransformer(get_cat_cols, validate=False)),\n",
    "('imputer', SimpleImputer(strategy=\"most_frequent\")),\n",
    "#('get_dummies', FunctionTransformer(get_dummies, validate=False))\n",
    "('one_hot_encode', FunctionTransformer(one_hot_encode, validate=False))    \n",
    "])       \n",
    "\n",
    "steps_ = FeatureUnion([\n",
    "('log_transform', log_transform_pipeline),\n",
    "('num_cols', num_cols_pipeline),\n",
    "('cat_cols', cat_cols_pipeline)\n",
    "])"
   ]
  },
  {
   "cell_type": "code",
   "execution_count": null,
   "id": "39743f18",
   "metadata": {},
   "outputs": [],
   "source": [
    "age =  50\n",
    "education_num =  13.0\n",
    "capital_gain =  0.0\n",
    "capital_loos = 0.0\n",
    "hour_per_week = 13.0\n",
    "workclass = \"Self-emp-not-inc\"\n",
    "marital_status = \"Married-civ-spouse\"\n",
    "occupation = \"Exec-managerial\"\n",
    "relationship = \"Husband\"\n",
    "race = \"White\"\n",
    "sex = \"Male\"\n",
    "native_country =\"United-States\"\n",
    "final_weight = 77516\n",
    "education=\"Bachelors\""
   ]
  },
  {
   "cell_type": "code",
   "execution_count": null,
   "id": "8ce29cc2",
   "metadata": {},
   "outputs": [],
   "source": [
    "dict_val = {'age':age, 'workclass':workclass, 'final-weight':final_weight, 'education':education, 'education-num':education_num,\n",
    "       'marital-status':marital_status, 'occupation':occupation, 'relationship':relationship, 'race':race, 'sex':sex,\n",
    "       'capital-gain':capital_gain, 'capital-loos':capital_loos, 'hour-per-week':hour_per_week, 'native-country':native_country}\n",
    "       "
   ]
  },
  {
   "cell_type": "code",
   "execution_count": null,
   "id": "23cf5121",
   "metadata": {},
   "outputs": [],
   "source": [
    "X_train = pd.DataFrame(dict_val,index=[0])"
   ]
  },
  {
   "cell_type": "code",
   "execution_count": null,
   "id": "334912da",
   "metadata": {},
   "outputs": [],
   "source": [
    "X_train"
   ]
  },
  {
   "cell_type": "code",
   "execution_count": null,
   "id": "6889a26f",
   "metadata": {
    "scrolled": true
   },
   "outputs": [],
   "source": [
    "full_pipeline = Pipeline([('steps_', steps_)])\n",
    "X = full_pipeline.fit_transform(X_train)"
   ]
  },
  {
   "cell_type": "code",
   "execution_count": null,
   "id": "c4aa6221",
   "metadata": {},
   "outputs": [],
   "source": [
    "y = model.predict(X)"
   ]
  },
  {
   "cell_type": "code",
   "execution_count": null,
   "id": "512ed3bb",
   "metadata": {},
   "outputs": [],
   "source": [
    "y"
   ]
  },
  {
   "cell_type": "code",
   "execution_count": null,
   "id": "4c9c5a35",
   "metadata": {},
   "outputs": [],
   "source": []
  }
 ],
 "metadata": {
  "kernelspec": {
   "display_name": "Python 3 (ipykernel)",
   "language": "python",
   "name": "python3"
  },
  "language_info": {
   "codemirror_mode": {
    "name": "ipython",
    "version": 3
   },
   "file_extension": ".py",
   "mimetype": "text/x-python",
   "name": "python",
   "nbconvert_exporter": "python",
   "pygments_lexer": "ipython3",
   "version": "3.9.7"
  }
 },
 "nbformat": 4,
 "nbformat_minor": 5
}
